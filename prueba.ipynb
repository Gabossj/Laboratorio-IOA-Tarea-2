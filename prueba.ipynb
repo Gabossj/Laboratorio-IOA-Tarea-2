{
 "cells": [
  {
   "cell_type": "code",
   "execution_count": 67,
   "metadata": {},
   "outputs": [
    {
     "name": "stderr",
     "output_type": "stream",
     "text": [
      "\n",
      "[notice] A new release of pip is available: 24.2 -> 24.3.1\n",
      "[notice] To update, run: C:\\Users\\gabop\\AppData\\Local\\Microsoft\\WindowsApps\\PythonSoftwareFoundation.Python.3.12_qbz5n2kfra8p0\\python.exe -m pip install --upgrade pip\n"
     ]
    },
    {
     "name": "stdout",
     "output_type": "stream",
     "text": [
      "Note: you may need to restart the kernel to use updated packages.\n",
      "Licensed to Bundle #6733.7184 expiring 20241231: ICI5142-01 INVESTIGACION DE OPERACIONES AVANZADAS (Advanced Operations Research), Prof. Guillermo Cabrera-Guerrero, Pontificia Universidad Catolica de Valparaiso.\n"
     ]
    }
   ],
   "source": [
    "%pip install -q amplpy\n",
    "from amplpy import AMPL, ampl_notebook\n",
    "ampl = ampl_notebook(\n",
    "    modules=[\"highs\", \"cbc\", \"gurobi\", \"cplex\"],  # modules to install\n",
    "    license_uuid=\"bb2c71f6-2b4c-4570-8eaf-4db0b0d7349a\", )# su UUID de licencia"
   ]
  },
  {
   "cell_type": "code",
   "execution_count": 68,
   "metadata": {},
   "outputs": [
    {
     "name": "stdout",
     "output_type": "stream",
     "text": [
      "Overwriting sscflp.mod\n"
     ]
    }
   ],
   "source": [
    "%%writefile sscflp.mod\n",
    "# Definición de parámetros\n",
    "param n; # Número de clientes\n",
    "param m; # Número de centros de distribución\n",
    "param c{i in 1..n, j in 1..m}; # Costo de transporte del cliente i al centro j\n",
    "param f{j in 1..m}; # Costo fijo de apertura del centro j\n",
    "param d{i in 1..n}; # Demanda del cliente i\n",
    "param b{j in 1..m}; # Capacidad del centro j\n",
    "\n",
    "# Definición de variables de decisión\n",
    "var x{j in 1..m} binary; # Si el centro j está abierto\n",
    "var y{i in 1..n, j in 1..m} binary; # Si el cliente i es atendido por el centro j\n",
    "\n",
    "# Función objetivo: Minimizar los costos totales\n",
    "minimize TotalCost: sum{i in 1..n, j in 1..m} c[i,j] * y[i,j] + sum{j in 1..m} f[j] * x[j];\n",
    "\n",
    "# Restricción: Cada cliente debe ser atendido por exactamente un centro\n",
    "subject to AssignCliente{i in 1..n}: sum{j in 1..m} y[i,j] = 1;\n",
    "\n",
    "# Restricción: La capacidad del centro no debe ser excedida\n",
    "subject to Capacity{j in 1..m}: sum{i in 1..n} d[i] * y[i,j] <= b[j] * x[j];\n",
    "\n",
    "# Restricción: Un cliente solo puede ser asignado a un centro si el centro está abierto\n",
    "subject to OpenIfAssigned{i in 1..n, j in 1..m}: y[i,j] <= x[j];"
   ]
  },
  {
   "cell_type": "code",
   "execution_count": 69,
   "metadata": {},
   "outputs": [
    {
     "name": "stdout",
     "output_type": "stream",
     "text": [
      "Overwriting mscflp.mod\n"
     ]
    }
   ],
   "source": [
    "%%writefile mscflp.mod \n",
    "# Definición de parámetros\n",
    "param m; # Número de centros de distribución\n",
    "param n; # Número de clientes\n",
    "param f{i in 1..m}; # Costo de apertura del centro i\n",
    "param c{i in 1..m, j in 1..n}; # Costo de transporte del centro i al cliente j\n",
    "param S{i in 1..m}; # Capacidad del centro i\n",
    "param D{j in 1..n}; # Demanda del cliente j\n",
    "\n",
    "# Definición de variables de decisión\n",
    "var x{i in 1..m, j in 1..n} >= 0; # Cantidad de demanda del cliente j atendida por el centro i\n",
    "var y{i in 1..m} binary; # Si el centro i está abierto\n",
    "\n",
    "# Función objetivo: Minimizar los costos totales\n",
    "minimize TotalCost: sum{i in 1..m} f[i] * y[i] + sum{i in 1..m, j in 1..n} c[i,j] * x[i,j];\n",
    "\n",
    "# Restricción: La capacidad del centro no debe ser excedida\n",
    "subject to Capacity{i in 1..m}: sum{j in 1..n} x[i,j] <= S[i];\n",
    "\n",
    "# Restricción: La demanda de cada cliente debe ser satisfecha\n",
    "subject to Demand{j in 1..n}: sum{i in 1..m} x[i,j] >= D[j];\n",
    "\n",
    "# Restricción: Un centro solo puede satisfacer demanda si está abierto\n",
    "subject to OpenIfAssigned{i in 1..m, j in 1..n}: x[i,j] <= S[i] * y[i];\n"
   ]
  },
  {
   "cell_type": "code",
   "execution_count": 70,
   "metadata": {},
   "outputs": [],
   "source": [
    "import os\n",
    "from amplpy import AMPL\n",
    "import random\n",
    "import pandas as pd\n",
    "\n",
    "def parse_instance(file_path):\n",
    "    with open(file_path, 'r') as f:\n",
    "        # Leer primera línea: m (ubicaciones) y n (clientes)\n",
    "        m, n = map(int, f.readline().split())\n",
    "        \n",
    "        # Leer capacidades y costos fijos de cada ubicación\n",
    "        capacities, fixed_costs = [], []\n",
    "        for _ in range(m):\n",
    "            cap, cost = map(float, f.readline().split())  # Usamos float para manejar decimales\n",
    "            capacities.append(cap)\n",
    "            fixed_costs.append(cost)\n",
    "        \n",
    "        # Leer demandas de clientes y costos de asignación\n",
    "        demands, allocation_costs = [], []\n",
    "        for _ in range(n):\n",
    "            data = list(map(float, f.readline().split()))  # También se usa float aquí\n",
    "            demand = data[0]\n",
    "            costs = data[1:]\n",
    "            demands.append(demand)\n",
    "            allocation_costs.append(costs)\n",
    "    \n",
    "    return m, n, capacities, fixed_costs, demands, allocation_costs\n",
    "\n",
    "\n",
    "def write_ampl_dat(file_path, m, n, capacities, fixed_costs, demands, allocation_costs):\n",
    "    with open(file_path, 'w') as f:\n",
    "        f.write(f'param m := {m};\\n')\n",
    "        f.write(f'param n := {n};\\n')\n",
    "        \n",
    "        # Capacidad de cada centro\n",
    "        f.write('param b := ')\n",
    "        f.write(' '.join(f'{i+1} {cap:.1f}' for i, cap in enumerate(capacities)) + ';\\n')\n",
    "        \n",
    "        # Costo fijo de cada centro\n",
    "        f.write('param f := ')\n",
    "        f.write(' '.join(f'{i+1} {cost:.1f}' for i, cost in enumerate(fixed_costs)) + ';\\n')\n",
    "        \n",
    "        # Demanda de cada cliente\n",
    "        f.write('param d := ')\n",
    "        f.write(' '.join(f'{j+1} {dem:.1f}' for j, dem in enumerate(demands)) + ';\\n')\n",
    "        \n",
    "        # Completar costos de asignación\n",
    "        f.write('param c : ' + ' '.join(str(i+1) for i in range(m)) + ' :=\\n')\n",
    "        for j in range(n):\n",
    "            row_costs = allocation_costs[j] if j < len(allocation_costs) else [0.0] * m\n",
    "            # Si la fila es incompleta, rellena con ceros\n",
    "            if len(row_costs) < m:\n",
    "                row_costs.extend([0.0] * (m - len(row_costs)))\n",
    "            f.write(f\"{j+1} \" + ' '.join(f\"{cost:.1f}\" for cost in row_costs) + '\\n')\n",
    "        f.write(';\\n')\n",
    "\n",
    "\n",
    "\n",
    "def solve_with_ampl(model_file, data_file):\n",
    "    ampl = AMPL()\n",
    "    ampl.read(model_file)\n",
    "    ampl.read_data(data_file)\n",
    "    ampl.solve()\n",
    "    total_cost = ampl.get_objective(\"TotalCost\").value()\n",
    "    return total_cost\n",
    "\n",
    "# Heurísticas de búsqueda local y Benders\n",
    "def local_search_sscflp(m, n, capacities, fixed_costs, demands, allocation_costs, max_iterations=100):\n",
    "    best_solution, best_cost = None, float('inf')\n",
    "    for _ in range(max_iterations):\n",
    "        solution = generate_random_solution(m, n, capacities, demands)\n",
    "        solution_cost = calculate_solution_cost(solution, fixed_costs, allocation_costs)\n",
    "        if solution_cost < best_cost:\n",
    "            best_solution, best_cost = solution, solution_cost\n",
    "        solution = perturb_solution(solution)\n",
    "    return best_solution, best_cost\n",
    "\n",
    "def local_search_mscflp(m, n, capacities, fixed_costs, demands, allocation_costs, max_iterations=100):\n",
    "    best_solution, best_cost = None, float('inf')\n",
    "    for _ in range(max_iterations):\n",
    "        solution = generate_random_solution(m, n, capacities, demands)\n",
    "        solution_cost = calculate_solution_cost(solution, fixed_costs, allocation_costs)\n",
    "        if solution_cost < best_cost:\n",
    "            best_solution, best_cost = solution, solution_cost\n",
    "        solution = perturb_solution(solution)\n",
    "    return best_solution, best_cost\n",
    "\n",
    "def benders_decomposition_sscflp(m, n, capacities, fixed_costs, demands, allocation_costs, max_iterations=100):\n",
    "    best_solution, best_cost = None, float('inf')\n",
    "    for _ in range(max_iterations):\n",
    "        solution_cost = benders_iteration() \n",
    "        if solution_cost < best_cost:\n",
    "            best_solution, best_cost = solution, solution_cost\n",
    "        if convergence_criteria_met():\n",
    "            break\n",
    "    return best_solution, best_cost\n",
    "\n",
    "def benders_decomposition_mscflp(m, n, capacities, fixed_costs, demands, allocation_costs, max_iterations=100):\n",
    "    best_solution, best_cost = None, float('inf')\n",
    "    for _ in range(max_iterations):\n",
    "        solution_cost = benders_iteration()\n",
    "        if solution_cost < best_cost:\n",
    "            best_solution, best_cost = solution, solution_cost\n",
    "        if convergence_criteria_met():\n",
    "            break\n",
    "    return best_solution, best_cost\n"
   ]
  },
  {
   "cell_type": "code",
   "execution_count": 71,
   "metadata": {},
   "outputs": [],
   "source": [
    "import random\n",
    "\n",
    "def generate_random_solution(m, n, capacities, demands):\n",
    "    # Inicializar la solución con asignaciones vacías para cada cliente\n",
    "    solution = [-1] * n\n",
    "    remaining_capacity = capacities[:]  # Copia de las capacidades para rastrear el espacio restante\n",
    "\n",
    "    for j in range(n):\n",
    "        # Intento de asignar cliente j a un centro aleatorio que tenga capacidad suficiente\n",
    "        possible_centers = [i for i in range(m) if remaining_capacity[i] >= demands[j]]\n",
    "        if possible_centers:\n",
    "            selected_center = random.choice(possible_centers)\n",
    "            solution[j] = selected_center\n",
    "            remaining_capacity[selected_center] -= demands[j]\n",
    "        else:\n",
    "            # Si no hay centros con capacidad, se asigna -1 (sin asignación válida)\n",
    "            solution[j] = -1\n",
    "\n",
    "    return solution\n"
   ]
  },
  {
   "cell_type": "code",
   "execution_count": 72,
   "metadata": {},
   "outputs": [],
   "source": [
    "def calculate_solution_cost(solution, fixed_costs, allocation_costs):\n",
    "    total_cost = 0\n",
    "    used_centers = set(solution)  # Centros utilizados en la solución\n",
    "\n",
    "    # Sumar costos fijos de los centros abiertos\n",
    "    for center in used_centers:\n",
    "        if center != -1:\n",
    "            total_cost += fixed_costs[center]\n",
    "\n",
    "    # Sumar costos de asignación para cada cliente\n",
    "    for j, center in enumerate(solution):\n",
    "        if center != -1:\n",
    "            total_cost += allocation_costs[j][center]\n",
    "\n",
    "    return total_cost\n"
   ]
  },
  {
   "cell_type": "code",
   "execution_count": null,
   "metadata": {},
   "outputs": [],
   "source": [
    "# Ruta de las instancias\n",
    "instance_dir = \"Problem set OR Library\"\n",
    "\n",
    "# Selección de instancia (descomentar una línea para elegir)\n",
    "instance_file = f\"{instance_dir}/cap41.txt\"\n",
    "# instance_file = f\"{instance_dir}/capa.txt\"\n",
    "# instance_file = f\"{instance_dir}/5000x5000.txt\"\n",
    "\n",
    "# Nombre de la instancia para usar en archivos de salida\n",
    "instance_name = os.path.basename(instance_file).split('.')[0]\n"
   ]
  },
  {
   "cell_type": "code",
   "execution_count": 74,
   "metadata": {},
   "outputs": [],
   "source": [
    "def local_search_sscflp(m, n, capacities, fixed_costs, demands, allocation_costs, max_iterations=100):\n",
    "    best_solution, best_cost = None, float('inf')\n",
    "    \n",
    "    for _ in range(max_iterations):\n",
    "        # Generar una solución inicial aleatoria\n",
    "        solution = generate_random_solution(m, n, capacities, demands)\n",
    "        \n",
    "        # Calcular el costo de la solución inicial\n",
    "        solution_cost = calculate_solution_cost(solution, fixed_costs, allocation_costs)\n",
    "        \n",
    "        # Si es la mejor solución encontrada hasta ahora, actualizar\n",
    "        if solution_cost < best_cost:\n",
    "            best_solution, best_cost = solution, solution_cost\n",
    "\n",
    "        # Aquí puedes implementar la lógica de perturbación (mejora de la solución)\n",
    "        # Ejemplo: perturbar o intercambiar asignaciones para buscar mejores costos\n",
    "        solution = perturb_solution(solution)  # Función de perturbación\n",
    "\n",
    "    return best_solution, best_cost"
   ]
  },
  {
   "cell_type": "code",
   "execution_count": 75,
   "metadata": {},
   "outputs": [],
   "source": [
    "def benders_iteration():\n",
    "    # Configuración inicial del subproblema\n",
    "    # Aquí deberás implementar el subproblema con los cortes de Benders\n",
    "    # Este es solo un esqueleto para la función\n",
    "    subproblem_cost = random.uniform(50000, 100000)  # Placeholder: simula un valor de costo\n",
    "    return subproblem_cost\n"
   ]
  },
  {
   "cell_type": "code",
   "execution_count": 76,
   "metadata": {},
   "outputs": [],
   "source": [
    "def perturb_solution(solution):\n",
    "    # Ejemplo básico de perturbación: intercambiar asignaciones de dos clientes\n",
    "    new_solution = solution[:]\n",
    "    j1, j2 = random.sample(range(len(solution)), 2)  # Elegir dos clientes aleatoriamente\n",
    "    new_solution[j1], new_solution[j2] = new_solution[j2], new_solution[j1]\n",
    "    return new_solution\n"
   ]
  },
  {
   "cell_type": "code",
   "execution_count": 77,
   "metadata": {},
   "outputs": [
    {
     "name": "stdout",
     "output_type": "stream",
     "text": [
      "Warning:\n",
      "\tpresolve, constraint AssignCliente[50]:\n",
      "\t\tall variables eliminated, but lower bound = 1 > 0\n",
      "\tpresolve, constraint AssignCliente[48]:\n",
      "\t\tall variables eliminated, but lower bound = 1 > 0\n",
      "\tpresolve, constraint AssignCliente[47]:\n",
      "\t\tall variables eliminated, but lower bound = 1 > 0\n",
      "\tpresolve, constraint AssignCliente[46]:\n",
      "\t\tall variables eliminated, but lower bound = 1 > 0\n",
      "\tpresolve, constraint AssignCliente[44]:\n",
      "\t\tall variables eliminated, but lower bound = 1 > 0\n",
      "\t20 presolve messages suppressed.\n",
      "SSCFLP - Costo óptimo con AMPL para cap41: 0.0\n",
      "SSCFLP - Costo búsqueda local para cap41: 92173.0875\n"
     ]
    },
    {
     "ename": "NameError",
     "evalue": "name 'solution' is not defined",
     "output_type": "error",
     "traceback": [
      "\u001b[1;31m---------------------------------------------------------------------------\u001b[0m",
      "\u001b[1;31mNameError\u001b[0m                                 Traceback (most recent call last)",
      "Cell \u001b[1;32mIn[77], line 19\u001b[0m\n\u001b[0;32m     16\u001b[0m \u001b[38;5;28mprint\u001b[39m(\u001b[38;5;124mf\u001b[39m\u001b[38;5;124m\"\u001b[39m\u001b[38;5;124mSSCFLP - Costo búsqueda local para \u001b[39m\u001b[38;5;132;01m{\u001b[39;00minstance_name\u001b[38;5;132;01m}\u001b[39;00m\u001b[38;5;124m: \u001b[39m\u001b[38;5;132;01m{\u001b[39;00mlocal_search_cost_sscflp\u001b[38;5;132;01m}\u001b[39;00m\u001b[38;5;124m\"\u001b[39m)\n\u001b[0;32m     18\u001b[0m \u001b[38;5;66;03m# Solución con descomposición de Benders\u001b[39;00m\n\u001b[1;32m---> 19\u001b[0m _, benders_cost_sscflp \u001b[38;5;241m=\u001b[39m \u001b[43mbenders_decomposition_sscflp\u001b[49m\u001b[43m(\u001b[49m\u001b[43mm\u001b[49m\u001b[43m,\u001b[49m\u001b[43m \u001b[49m\u001b[43mn\u001b[49m\u001b[43m,\u001b[49m\u001b[43m \u001b[49m\u001b[43mcapacities\u001b[49m\u001b[43m,\u001b[49m\u001b[43m \u001b[49m\u001b[43mfixed_costs\u001b[49m\u001b[43m,\u001b[49m\u001b[43m \u001b[49m\u001b[43mdemands\u001b[49m\u001b[43m,\u001b[49m\u001b[43m \u001b[49m\u001b[43mallocation_costs\u001b[49m\u001b[43m,\u001b[49m\u001b[43m \u001b[49m\u001b[43mmax_iterations\u001b[49m\u001b[38;5;241;43m=\u001b[39;49m\u001b[38;5;241;43m100\u001b[39;49m\u001b[43m)\u001b[49m\n\u001b[0;32m     20\u001b[0m \u001b[38;5;28mprint\u001b[39m(\u001b[38;5;124mf\u001b[39m\u001b[38;5;124m\"\u001b[39m\u001b[38;5;124mSSCFLP - Costo descomposición de Benders para \u001b[39m\u001b[38;5;132;01m{\u001b[39;00minstance_name\u001b[38;5;132;01m}\u001b[39;00m\u001b[38;5;124m: \u001b[39m\u001b[38;5;132;01m{\u001b[39;00mbenders_cost_sscflp\u001b[38;5;132;01m}\u001b[39;00m\u001b[38;5;124m\"\u001b[39m)\n\u001b[0;32m     22\u001b[0m \u001b[38;5;66;03m#\"\"\"\u001b[39;00m\n",
      "Cell \u001b[1;32mIn[70], line 93\u001b[0m, in \u001b[0;36mbenders_decomposition_sscflp\u001b[1;34m(m, n, capacities, fixed_costs, demands, allocation_costs, max_iterations)\u001b[0m\n\u001b[0;32m     91\u001b[0m solution_cost \u001b[38;5;241m=\u001b[39m benders_iteration() \n\u001b[0;32m     92\u001b[0m \u001b[38;5;28;01mif\u001b[39;00m solution_cost \u001b[38;5;241m<\u001b[39m best_cost:\n\u001b[1;32m---> 93\u001b[0m     best_solution, best_cost \u001b[38;5;241m=\u001b[39m \u001b[43msolution\u001b[49m, solution_cost\n\u001b[0;32m     94\u001b[0m \u001b[38;5;28;01mif\u001b[39;00m convergence_criteria_met():\n\u001b[0;32m     95\u001b[0m     \u001b[38;5;28;01mbreak\u001b[39;00m\n",
      "\u001b[1;31mNameError\u001b[0m: name 'solution' is not defined"
     ]
    }
   ],
   "source": [
    "#\"\"\"\n",
    "# === Resolución del modelo SSCFLP para la instancia seleccionada ===\n",
    "\n",
    "\n",
    "# Archivo de datos SSCFLP\n",
    "sscflp_data_file = f\"resultadosInstancias/instance_sscflp_{instance_name}.dat\"\n",
    "m, n, capacities, fixed_costs, demands, allocation_costs = parse_instance(instance_file)\n",
    "write_ampl_dat(sscflp_data_file, m, n, capacities, fixed_costs, demands, allocation_costs)\n",
    "\n",
    "# Solución exacta con AMPL\n",
    "optimal_cost_sscflp = solve_with_ampl(\"sscflp.mod\", sscflp_data_file)\n",
    "print(f\"SSCFLP - Costo óptimo con AMPL para {instance_name}: {optimal_cost_sscflp}\")\n",
    "\n",
    "# Solución heurística con búsqueda local\n",
    "_, local_search_cost_sscflp = local_search_sscflp(m, n, capacities, fixed_costs, demands, allocation_costs, max_iterations=100)\n",
    "print(f\"SSCFLP - Costo búsqueda local para {instance_name}: {local_search_cost_sscflp}\")\n",
    "\n",
    "# Solución con descomposición de Benders\n",
    "_, benders_cost_sscflp = benders_decomposition_sscflp(m, n, capacities, fixed_costs, demands, allocation_costs, max_iterations=100)\n",
    "print(f\"SSCFLP - Costo descomposición de Benders para {instance_name}: {benders_cost_sscflp}\")\n",
    "\n",
    "#\"\"\"\n"
   ]
  },
  {
   "cell_type": "code",
   "execution_count": null,
   "metadata": {},
   "outputs": [],
   "source": [
    "\"\"\"\n",
    "# === Resolución del modelo MSCFLP para la instancia seleccionada ===\n",
    "\n",
    "# Archivo de datos MSCFLP\n",
    "mscflp_data_file = f\"resultadosInstancias/instance_mscflp_{instance_name}.dat\"\n",
    "m, n, capacities, fixed_costs, demands, allocation_costs = parse_instance(instance_file)\n",
    "write_ampl_dat(mscflp_data_file, m, n, capacities, fixed_costs, demands, allocation_costs)\n",
    "\n",
    "# Solución exacta con AMPL\n",
    "optimal_cost_mscflp = solve_with_ampl(\"mscflp.mod\", mscflp_data_file)\n",
    "print(f\"MSCFLP - Costo óptimo con AMPL para {instance_name}: {optimal_cost_mscflp}\")\n",
    "\n",
    "# Solución heurística con búsqueda local\n",
    "_, local_search_cost_mscflp = local_search_mscflp(m, n, capacities, fixed_costs, demands, allocation_costs, max_iterations=100)\n",
    "print(f\"MSCFLP - Costo búsqueda local para {instance_name}: {local_search_cost_mscflp}\")\n",
    "\n",
    "# Solución con descomposición de Benders\n",
    "_, benders_cost_mscflp = benders_decomposition_mscflp(m, n, capacities, fixed_costs, demands, allocation_costs, max_iterations=100)\n",
    "print(f\"MSCFLP - Costo descomposición de Benders para {instance_name}: {benders_cost_mscflp}\")\n",
    "\n",
    "\"\"\"\n"
   ]
  },
  {
   "cell_type": "code",
   "execution_count": null,
   "metadata": {},
   "outputs": [],
   "source": [
    "def save_results_to_excel(results, output_dir=\"resultadosInstancias\"):\n",
    "    os.makedirs(output_dir, exist_ok=True)\n",
    "    results_file = os.path.join(output_dir, \"results.xlsx\")\n",
    "    df = pd.DataFrame(results, columns=[\n",
    "        \"Instance\", \n",
    "        \"SSCFLP Optimal Cost (AMPL)\", \"SSCFLP Local Search Cost\", \"SSCFLP Benders Cost\",\n",
    "        #\"MSCFLP Optimal Cost (AMPL)\", \"MSCFLP Local Search Cost\", \"MSCFLP Benders Cost\"\n",
    "    ])\n",
    "    df.to_excel(results_file, index=False)\n"
   ]
  }
 ],
 "metadata": {
  "kernelspec": {
   "display_name": "Python 3",
   "language": "python",
   "name": "python3"
  },
  "language_info": {
   "codemirror_mode": {
    "name": "ipython",
    "version": 3
   },
   "file_extension": ".py",
   "mimetype": "text/x-python",
   "name": "python",
   "nbconvert_exporter": "python",
   "pygments_lexer": "ipython3",
   "version": "3.12.7"
  }
 },
 "nbformat": 4,
 "nbformat_minor": 2
}
