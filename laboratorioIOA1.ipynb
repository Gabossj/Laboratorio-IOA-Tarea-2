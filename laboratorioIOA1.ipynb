{
 "cells": [
  {
   "cell_type": "code",
   "execution_count": 24,
   "metadata": {},
   "outputs": [
    {
     "name": "stderr",
     "output_type": "stream",
     "text": [
      "\n",
      "[notice] A new release of pip is available: 24.2 -> 24.3.1\n",
      "[notice] To update, run: C:\\Users\\gabop\\AppData\\Local\\Microsoft\\WindowsApps\\PythonSoftwareFoundation.Python.3.12_qbz5n2kfra8p0\\python.exe -m pip install --upgrade pip\n"
     ]
    },
    {
     "name": "stdout",
     "output_type": "stream",
     "text": [
      "Note: you may need to restart the kernel to use updated packages.\n",
      "Licensed to Bundle #6733.7184 expiring 20241231: ICI5142-01 INVESTIGACION DE OPERACIONES AVANZADAS (Advanced Operations Research), Prof. Guillermo Cabrera-Guerrero, Pontificia Universidad Catolica de Valparaiso.\n"
     ]
    }
   ],
   "source": [
    "# Configuración de AMPL y licencia\n",
    "%pip install -q amplpy\n",
    "from amplpy import AMPL, ampl_notebook\n",
    "\n",
    "# Configurar licencia de AMPL y módulos necesarios\n",
    "ampl = ampl_notebook(\n",
    "    modules=[\"highs\", \"cbc\", \"gurobi\", \"cplex\"],\n",
    "    license_uuid=\"bb2c71f6-2b4c-4570-8eaf-4db0b0d7349a\"\n",
    ")\n"
   ]
  },
  {
   "cell_type": "code",
   "execution_count": 25,
   "metadata": {},
   "outputs": [
    {
     "name": "stdout",
     "output_type": "stream",
     "text": [
      "Overwriting sscflp.mod\n"
     ]
    }
   ],
   "source": [
    "%%writefile sscflp.mod\n",
    "# Definición de parámetros\n",
    "param n; # Número de clientes\n",
    "param m; # Número de centros de distribución\n",
    "param c{i in 1..n, j in 1..m}; # Costo de transporte del cliente i al centro j\n",
    "param f{j in 1..m}; # Costo fijo de apertura del centro j\n",
    "param d{i in 1..n}; # Demanda del cliente i\n",
    "param b{j in 1..m}; # Capacidad del centro j\n",
    "\n",
    "# Definición de variables de decisión\n",
    "var x{j in 1..m} binary; # Si el centro j está abierto\n",
    "var y{i in 1..n, j in 1..m} binary; # Si el cliente i es atendido por el centro j\n",
    "\n",
    "# Función objetivo: Minimizar los costos totales\n",
    "minimize TotalCost: sum{i in 1..n, j in 1..m} c[i,j] * y[i,j] + sum{j in 1..m} f[j] * x[j];\n",
    "\n",
    "# Restricción: Cada cliente debe ser atendido por exactamente un centro\n",
    "subject to AssignCliente{i in 1..n}: sum{j in 1..m} y[i,j] = 1;\n",
    "\n",
    "# Restricción: La capacidad del centro no debe ser excedida\n",
    "subject to Capacity{j in 1..m}: sum{i in 1..n} d[i] * y[i,j] <= b[j] * x[j];\n",
    "\n",
    "# Restricción: Un cliente solo puede ser asignado a un centro si el centro está abierto\n",
    "subject to OpenIfAssigned{i in 1..n, j in 1..m}: y[i,j] <= x[j];"
   ]
  },
  {
   "cell_type": "code",
   "execution_count": 26,
   "metadata": {},
   "outputs": [
    {
     "name": "stdout",
     "output_type": "stream",
     "text": [
      "Overwriting mscflp.mod\n"
     ]
    }
   ],
   "source": [
    "%%writefile mscflp.mod \n",
    "# Definición de parámetros\n",
    "param m; # Número de centros de distribución\n",
    "param n; # Número de clientes\n",
    "param f{i in 1..m}; # Costo de apertura del centro i\n",
    "param c{i in 1..m, j in 1..n}; # Costo de transporte del centro i al cliente j\n",
    "param S{i in 1..m}; # Capacidad del centro i\n",
    "param D{j in 1..n}; # Demanda del cliente j\n",
    "\n",
    "# Definición de variables de decisión\n",
    "var x{i in 1..m, j in 1..n} >= 0; # Cantidad de demanda del cliente j atendida por el centro i\n",
    "var y{i in 1..m} binary; # Si el centro i está abierto\n",
    "\n",
    "# Función objetivo: Minimizar los costos totales\n",
    "minimize TotalCost: sum{i in 1..m} f[i] * y[i] + sum{i in 1..m, j in 1..n} c[i,j] * x[i,j];\n",
    "\n",
    "# Restricción: La capacidad del centro no debe ser excedida\n",
    "subject to Capacity{i in 1..m}: sum{j in 1..n} x[i,j] <= S[i];\n",
    "\n",
    "# Restricción: La demanda de cada cliente debe ser satisfecha\n",
    "subject to Demand{j in 1..n}: sum{i in 1..m} x[i,j] >= D[j];\n",
    "\n",
    "# Restricción: Un centro solo puede satisfacer demanda si está abierto\n",
    "subject to OpenIfAssigned{i in 1..m, j in 1..n}: x[i,j] <= S[i] * y[i];\n"
   ]
  },
  {
   "cell_type": "code",
   "execution_count": 27,
   "metadata": {},
   "outputs": [],
   "source": [
    "# Imports generales\n",
    "import os\n",
    "\n",
    "# Ruta de las instancias\n",
    "instance_dir = \"Problem set OR Library\"\n",
    "\n",
    "# Selección de instancia (descomentar una línea para elegir)\n",
    "#instance_file = f\"{instance_dir}/cap41.txt\"\n",
    "# instance_file = f\"{instance_dir}/capa.txt\"\n",
    "instance_file = f\"{instance_dir}/500x2000_1.txt\"\n",
    "# instance_file = f\"{instance_dir}/5000x5000_1.txt\"\n",
    "\n",
    "# Nombre de la instancia para usar en archivos de salida\n",
    "instance_name = os.path.basename(instance_file).split('.')[0]\n",
    "\n",
    "\n",
    "\"\"\"# Ruta de la carpeta de instancias\n",
    "instance_folder = \"./Problem set OR Library\"\n",
    "# Listar todas las instancias en el directorio\n",
    "instances = [f for f in os.listdir(instance_folder) if f.endswith(\".txt\")]\"\"\"\n",
    "\n",
    "\n",
    "# Selección de problema\n",
    "problem = \"SSCFLP\"  # Cambiar a \"MSCFLP\" si se desea resolver el problema MSCFLP\n",
    "#problem = \"MSCFLP\"\n"
   ]
  },
  {
   "cell_type": "code",
   "execution_count": 28,
   "metadata": {},
   "outputs": [],
   "source": [
    "import pandas as pd\n",
    "\n",
    "# Función de carga de datos\n",
    "def load_instance(file_path):\n",
    "    with open(file_path, 'r') as f:\n",
    "        lines = f.readlines()\n",
    "        \n",
    "    # Procesar cada parte del archivo\n",
    "    m, n = map(int, lines[0].split())  # Número de ubicaciones (m) y clientes (n)\n",
    "    capacities, fixed_costs, demands, assign_costs = [], [], [], []\n",
    "    \n",
    "    # Leer capacidades y costos fijos\n",
    "    idx = 2\n",
    "    for _ in range(m):\n",
    "        capacity, fixed_cost = map(float, lines[idx].split())\n",
    "        capacities.append(capacity)\n",
    "        fixed_costs.append(fixed_cost)\n",
    "        idx += 1\n",
    "    \n",
    "    # Leer demandas\n",
    "    for _ in range(n):\n",
    "        demand = float(lines[idx].strip())\n",
    "        demands.append(demand)\n",
    "        idx += 1\n",
    "    \n",
    "    # Leer matriz de costos de asignación\n",
    "    for _ in range(m):\n",
    "        costs = list(map(float, lines[idx].split()))\n",
    "        assign_costs.append(costs)\n",
    "        idx += 1\n",
    "    \n",
    "    return m, n, capacities, fixed_costs, demands, assign_costs\n"
   ]
  },
  {
   "cell_type": "code",
   "execution_count": 29,
   "metadata": {},
   "outputs": [],
   "source": [
    "# Ejemplo de configuración y resolución del problema con AMPL\n",
    "def solve_instance(m, n, capacities, fixed_costs, demands, assign_costs, method=\"Benders\"):\n",
    "    # Crear AMPL model instance\n",
    "    ampl = AMPL()\n",
    "    model_path = \"sscflp.mod\" if problem == \"SSCFLP\" else \"mscflp.mod\"\n",
    "    ampl.read(model_path)\n",
    "    \n",
    "    # Cargar datos de la instancia en el modelo AMPL\n",
    "    ampl.param['m'] = m\n",
    "    ampl.param['n'] = n\n",
    "    ampl.param['c'] = assign_costs\n",
    "    ampl.param['f'] = fixed_costs\n",
    "    ampl.param['d'] = demands\n",
    "    ampl.param['b'] = capacities\n",
    "\n",
    "    if method == \"Benders\":\n",
    "        # Descomposición de Benders con Gurobi como solver\n",
    "        ampl.option[\"solver\"] = \"gurobi\"\n",
    "    else:\n",
    "        # Aplicar búsqueda local\n",
    "        pass\n",
    "\n",
    "    # Resolver\n",
    "    ampl.solve()\n",
    "    return ampl.getObjective(\"TotalCost\").value()\n"
   ]
  },
  {
   "cell_type": "code",
   "execution_count": 33,
   "metadata": {},
   "outputs": [],
   "source": [
    "# Exportar resultados\n",
    "def export_results(instance_file, solution, output_folder=\"resultadosInstancias\"):\n",
    "    if not os.path.exists(output_folder):\n",
    "        os.makedirs(output_folder)\n",
    "    with open(f\"{output_folder}/{instance_name}_solution.txt\", 'w') as f:\n",
    "        f.write(f\"Instancia: {instance_name}\\n\")\n",
    "        f.write(f\"Solución óptima: {solution}\\n\")\n"
   ]
  },
  {
   "cell_type": "code",
   "execution_count": 32,
   "metadata": {},
   "outputs": [],
   "source": [
    "# Ejecución de todas las instancias\n",
    "for instance_file in instances:\n",
    "    m, n, capacities, fixed_costs, demands, assign_costs = load_instance(os.path.join(instance_dir, instance_file))\n",
    "    solution = solve_instance(m, n, capacities, fixed_costs, demands, assign_costs, method=\"Benders\")\n",
    "    export_results(instance_file.split(\".\")[0], solution)\n"
   ]
  }
 ],
 "metadata": {
  "kernelspec": {
   "display_name": "Python 3",
   "language": "python",
   "name": "python3"
  },
  "language_info": {
   "codemirror_mode": {
    "name": "ipython",
    "version": 3
   },
   "file_extension": ".py",
   "mimetype": "text/x-python",
   "name": "python",
   "nbconvert_exporter": "python",
   "pygments_lexer": "ipython3",
   "version": "3.12.7"
  }
 },
 "nbformat": 4,
 "nbformat_minor": 2
}
