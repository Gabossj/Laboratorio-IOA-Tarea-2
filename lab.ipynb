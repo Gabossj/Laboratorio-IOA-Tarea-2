{
 "cells": [
  {
   "cell_type": "markdown",
   "metadata": {},
   "source": [
    "Descarga de módulos AMPL"
   ]
  },
  {
   "cell_type": "code",
   "execution_count": 1,
   "metadata": {},
   "outputs": [
    {
     "name": "stderr",
     "output_type": "stream",
     "text": [
      "\n",
      "[notice] A new release of pip is available: 24.2 -> 24.3.1\n",
      "[notice] To update, run: C:\\Users\\gabop\\AppData\\Local\\Microsoft\\WindowsApps\\PythonSoftwareFoundation.Python.3.12_qbz5n2kfra8p0\\python.exe -m pip install --upgrade pip\n"
     ]
    },
    {
     "name": "stdout",
     "output_type": "stream",
     "text": [
      "Note: you may need to restart the kernel to use updated packages.\n",
      "Licensed to Bundle #6733.7184 expiring 20241231: ICI5142-01 INVESTIGACION DE OPERACIONES AVANZADAS (Advanced Operations Research), Prof. Guillermo Cabrera-Guerrero, Pontificia Universidad Catolica de Valparaiso.\n"
     ]
    }
   ],
   "source": [
    "%pip install -q amplpy\n",
    "from amplpy import AMPL, ampl_notebook\n",
    "ampl = ampl_notebook(\n",
    "    modules=[\"highs\", \"cbc\", \"gurobi\", \"cplex\"],  # modules to install\n",
    "    license_uuid=\"bb2c71f6-2b4c-4570-8eaf-4db0b0d7349a\", )# su UUID de licencia"
   ]
  },
  {
   "cell_type": "code",
   "execution_count": 2,
   "metadata": {},
   "outputs": [
    {
     "name": "stdout",
     "output_type": "stream",
     "text": [
      "Overwriting sscflp.mod\n"
     ]
    }
   ],
   "source": [
    "%%writefile sscflp.mod\n",
    "# Definición de parámetros\n",
    "param n; # Número de clientes\n",
    "param m; # Número de centros de distribución\n",
    "param c{i in 1..n, j in 1..m}; # Costo de transporte del cliente i al centro j\n",
    "param f{j in 1..m}; # Costo fijo de apertura del centro j\n",
    "param d{i in 1..n}; # Demanda del cliente i\n",
    "param b{j in 1..m}; # Capacidad del centro j\n",
    "\n",
    "# Definición de variables de decisión\n",
    "var x{j in 1..m} binary; # Si el centro j está abierto\n",
    "var y{i in 1..n, j in 1..m} binary; # Si el cliente i es atendido por el centro j\n",
    "\n",
    "# Función objetivo: Minimizar los costos totales\n",
    "minimize TotalCost: sum{i in 1..n, j in 1..m} c[i,j] * y[i,j] + sum{j in 1..m} f[j] * x[j];\n",
    "\n",
    "# Restricción: Cada cliente debe ser atendido por exactamente un centro\n",
    "subject to AssignCliente{i in 1..n}: sum{j in 1..m} y[i,j] = 1;\n",
    "\n",
    "# Restricción: La capacidad del centro no debe ser excedida\n",
    "subject to Capacity{j in 1..m}: sum{i in 1..n} d[i] * y[i,j] <= b[j] * x[j];\n",
    "\n",
    "# Restricción: Un cliente solo puede ser asignado a un centro si el centro está abierto\n",
    "subject to OpenIfAssigned{i in 1..n, j in 1..m}: y[i,j] <= x[j];"
   ]
  },
  {
   "cell_type": "code",
   "execution_count": 3,
   "metadata": {},
   "outputs": [
    {
     "name": "stdout",
     "output_type": "stream",
     "text": [
      "Overwriting mscflp.mod\n"
     ]
    }
   ],
   "source": [
    "%%writefile mscflp.mod \n",
    "# Definición de parámetros\n",
    "param m; # Número de centros de distribución\n",
    "param n; # Número de clientes\n",
    "param f{i in 1..m}; # Costo de apertura del centro i\n",
    "param c{i in 1..m, j in 1..n}; # Costo de transporte del centro i al cliente j\n",
    "param S{i in 1..m}; # Capacidad del centro i\n",
    "param D{j in 1..n}; # Demanda del cliente j\n",
    "\n",
    "# Definición de variables de decisión\n",
    "var x{i in 1..m, j in 1..n} >= 0; # Cantidad de demanda del cliente j atendida por el centro i\n",
    "var y{i in 1..m} binary; # Si el centro i está abierto\n",
    "\n",
    "# Función objetivo: Minimizar los costos totales\n",
    "minimize TotalCost: sum{i in 1..m} f[i] * y[i] + sum{i in 1..m, j in 1..n} c[i,j] * x[i,j];\n",
    "\n",
    "# Restricción: La capacidad del centro no debe ser excedida\n",
    "subject to Capacity{i in 1..m}: sum{j in 1..n} x[i,j] <= S[i];\n",
    "\n",
    "# Restricción: La demanda de cada cliente debe ser satisfecha\n",
    "subject to Demand{j in 1..n}: sum{i in 1..m} x[i,j] >= D[j];\n",
    "\n",
    "# Restricción: Un centro solo puede satisfacer demanda si está abierto\n",
    "subject to OpenIfAssigned{i in 1..m, j in 1..n}: x[i,j] <= S[i] * y[i];\n"
   ]
  },
  {
   "cell_type": "code",
   "execution_count": 4,
   "metadata": {},
   "outputs": [
    {
     "ename": "ValueError",
     "evalue": "Expected 16 allocation costs for customer 1, but got 7.",
     "output_type": "error",
     "traceback": [
      "\u001b[1;31m---------------------------------------------------------------------------\u001b[0m",
      "\u001b[1;31mValueError\u001b[0m                                Traceback (most recent call last)",
      "Cell \u001b[1;32mIn[4], line 39\u001b[0m\n\u001b[0;32m     29\u001b[0m     \u001b[38;5;28;01mreturn\u001b[39;00m {\n\u001b[0;32m     30\u001b[0m         \u001b[38;5;124m'\u001b[39m\u001b[38;5;124mm\u001b[39m\u001b[38;5;124m'\u001b[39m: m,\n\u001b[0;32m     31\u001b[0m         \u001b[38;5;124m'\u001b[39m\u001b[38;5;124mn\u001b[39m\u001b[38;5;124m'\u001b[39m: n,\n\u001b[1;32m   (...)\u001b[0m\n\u001b[0;32m     35\u001b[0m         \u001b[38;5;124m'\u001b[39m\u001b[38;5;124mallocation_costs\u001b[39m\u001b[38;5;124m'\u001b[39m: allocation_costs\n\u001b[0;32m     36\u001b[0m     }\n\u001b[0;32m     38\u001b[0m \u001b[38;5;66;03m# Example usage to read and store data in a variable\u001b[39;00m\n\u001b[1;32m---> 39\u001b[0m datos \u001b[38;5;241m=\u001b[39m \u001b[43mleer_instancia\u001b[49m\u001b[43m(\u001b[49m\u001b[38;5;124;43m\"\u001b[39;49m\u001b[38;5;124;43mcd/../Problem set OR Library/cap41.txt\u001b[39;49m\u001b[38;5;124;43m\"\u001b[39;49m\u001b[43m)\u001b[49m\n",
      "Cell \u001b[1;32mIn[4], line 25\u001b[0m, in \u001b[0;36mleer_instancia\u001b[1;34m(filepath)\u001b[0m\n\u001b[0;32m     23\u001b[0m         costs \u001b[38;5;241m=\u001b[39m \u001b[38;5;28mlist\u001b[39m(\u001b[38;5;28mmap\u001b[39m(\u001b[38;5;28mfloat\u001b[39m, file\u001b[38;5;241m.\u001b[39mreadline()\u001b[38;5;241m.\u001b[39msplit()))\n\u001b[0;32m     24\u001b[0m         \u001b[38;5;28;01mif\u001b[39;00m \u001b[38;5;28mlen\u001b[39m(costs) \u001b[38;5;241m!=\u001b[39m m:\n\u001b[1;32m---> 25\u001b[0m             \u001b[38;5;28;01mraise\u001b[39;00m \u001b[38;5;167;01mValueError\u001b[39;00m(\u001b[38;5;124mf\u001b[39m\u001b[38;5;124m\"\u001b[39m\u001b[38;5;124mExpected \u001b[39m\u001b[38;5;132;01m{\u001b[39;00mm\u001b[38;5;132;01m}\u001b[39;00m\u001b[38;5;124m allocation costs for customer \u001b[39m\u001b[38;5;132;01m{\u001b[39;00m_\u001b[38;5;241m+\u001b[39m\u001b[38;5;241m1\u001b[39m\u001b[38;5;132;01m}\u001b[39;00m\u001b[38;5;124m, but got \u001b[39m\u001b[38;5;132;01m{\u001b[39;00m\u001b[38;5;28mlen\u001b[39m(costs)\u001b[38;5;132;01m}\u001b[39;00m\u001b[38;5;124m.\u001b[39m\u001b[38;5;124m\"\u001b[39m)\n\u001b[0;32m     26\u001b[0m         allocation_costs\u001b[38;5;241m.\u001b[39mappend(costs)\n\u001b[0;32m     28\u001b[0m \u001b[38;5;66;03m# Return the data in a structured dictionary\u001b[39;00m\n",
      "\u001b[1;31mValueError\u001b[0m: Expected 16 allocation costs for customer 1, but got 7."
     ]
    }
   ],
   "source": [
    "def leer_instancia(filepath):\n",
    "    with open(filepath, 'r') as file:\n",
    "        # Read the number of warehouses (m) and customers (n)\n",
    "        m, n = map(int, file.readline().split())\n",
    "        \n",
    "        # Read capacities and fixed costs for each warehouse\n",
    "        capacities = []\n",
    "        fixed_costs = []\n",
    "        for _ in range(m):\n",
    "            capacity, fixed_cost = file.readline().split()\n",
    "            capacities.append(int(capacity))\n",
    "            fixed_costs.append(float(fixed_cost))\n",
    "        \n",
    "        # Read demands and allocation costs for each customer\n",
    "        demands = []\n",
    "        allocation_costs = []\n",
    "        for _ in range(n):\n",
    "            # Read the demand for each customer\n",
    "            demand = int(file.readline().strip())\n",
    "            demands.append(demand)\n",
    "            \n",
    "            # Read the allocation costs of this customer to each warehouse\n",
    "            costs = list(map(float, file.readline().split()))\n",
    "            if len(costs) != m:\n",
    "                raise ValueError(f\"Expected {m} allocation costs for customer {_+1}, but got {len(costs)}.\")\n",
    "            allocation_costs.append(costs)\n",
    "    \n",
    "    # Return the data in a structured dictionary\n",
    "    return {\n",
    "        'm': m,\n",
    "        'n': n,\n",
    "        'capacities': capacities,\n",
    "        'fixed_costs': fixed_costs,\n",
    "        'demands': demands,\n",
    "        'allocation_costs': allocation_costs\n",
    "    }\n",
    "\n",
    "# Example usage to read and store data in a variable\n",
    "datos = leer_instancia(\"cd/../Problem set OR Library/cap41.txt\")\n"
   ]
  },
  {
   "cell_type": "code",
   "execution_count": null,
   "metadata": {},
   "outputs": [
    {
     "ename": "NameError",
     "evalue": "name 'datos' is not defined",
     "output_type": "error",
     "traceback": [
      "\u001b[1;31m---------------------------------------------------------------------------\u001b[0m",
      "\u001b[1;31mNameError\u001b[0m                                 Traceback (most recent call last)",
      "Cell \u001b[1;32mIn[17], line 21\u001b[0m\n\u001b[0;32m     18\u001b[0m         sscflp_dat\u001b[38;5;241m.\u001b[39mwrite(\u001b[38;5;124m'\u001b[39m\u001b[38;5;124mparam b :=\u001b[39m\u001b[38;5;130;01m\\n\u001b[39;00m\u001b[38;5;124m'\u001b[39m \u001b[38;5;241m+\u001b[39m \u001b[38;5;124m'\u001b[39m\u001b[38;5;130;01m\\n\u001b[39;00m\u001b[38;5;124m'\u001b[39m\u001b[38;5;241m.\u001b[39mjoin([\u001b[38;5;124mf\u001b[39m\u001b[38;5;124m\"\u001b[39m\u001b[38;5;132;01m{\u001b[39;00mj\u001b[38;5;241m+\u001b[39m\u001b[38;5;241m1\u001b[39m\u001b[38;5;132;01m}\u001b[39;00m\u001b[38;5;124m \u001b[39m\u001b[38;5;132;01m{\u001b[39;00mdatos[\u001b[38;5;124m'\u001b[39m\u001b[38;5;124mcapacities\u001b[39m\u001b[38;5;124m'\u001b[39m][j]\u001b[38;5;132;01m}\u001b[39;00m\u001b[38;5;124m\"\u001b[39m \u001b[38;5;28;01mfor\u001b[39;00m j \u001b[38;5;129;01min\u001b[39;00m \u001b[38;5;28mrange\u001b[39m(datos[\u001b[38;5;124m'\u001b[39m\u001b[38;5;124mm\u001b[39m\u001b[38;5;124m'\u001b[39m])]) \u001b[38;5;241m+\u001b[39m \u001b[38;5;124m'\u001b[39m\u001b[38;5;124m;\u001b[39m\u001b[38;5;130;01m\\n\u001b[39;00m\u001b[38;5;124m'\u001b[39m)\n\u001b[0;32m     20\u001b[0m \u001b[38;5;66;03m# Create sscflp.dat using the data read\u001b[39;00m\n\u001b[1;32m---> 21\u001b[0m crear_sscflp_dat(\u001b[43mdatos\u001b[49m)\n",
      "\u001b[1;31mNameError\u001b[0m: name 'datos' is not defined"
     ]
    }
   ],
   "source": [
    "def crear_sscflp_dat(datos, output_path=\"sscflp.dat\"):\n",
    "    with open(output_path, 'w') as sscflp_dat:\n",
    "        sscflp_dat.write(f'param n := {datos[\"n\"]};\\nparam m := {datos[\"m\"]};\\n')\n",
    "        \n",
    "        # Parameter c[i,j] - Cost to allocate demand from customer i to warehouse j\n",
    "        sscflp_dat.write('param c : ' + ' '.join(map(str, range(1, datos['m'] + 1))) + ' :=\\n')\n",
    "        for i in range(datos['n']):\n",
    "            sscflp_dat.write(f\"{i+1} \" + ' '.join(map(str, datos['allocation_costs'][i])) + '\\n')\n",
    "        sscflp_dat.write(';\\n')\n",
    "        \n",
    "        # Parameter f[j] - Fixed cost of opening each warehouse\n",
    "        sscflp_dat.write('param f :=\\n' + '\\n'.join([f\"{j+1} {datos['fixed_costs'][j]}\" for j in range(datos['m'])]) + ';\\n')\n",
    "        \n",
    "        # Parameter d[i] - Demand of each customer\n",
    "        sscflp_dat.write('param d :=\\n' + '\\n'.join([f\"{i+1} {datos['demands'][i]}\" for i in range(datos['n'])]) + ';\\n')\n",
    "        \n",
    "        # Parameter b[j] - Capacity of each warehouse\n",
    "        sscflp_dat.write('param b :=\\n' + '\\n'.join([f\"{j+1} {datos['capacities'][j]}\" for j in range(datos['m'])]) + ';\\n')\n",
    "\n",
    "# Create sscflp.dat using the data read\n",
    "crear_sscflp_dat(datos)\n"
   ]
  },
  {
   "cell_type": "code",
   "execution_count": null,
   "metadata": {},
   "outputs": [],
   "source": [
    "def crear_mscflp_dat(datos, output_path=\"mscflp.dat\"):\n",
    "    with open(output_path, 'w') as mscflp_dat:\n",
    "        mscflp_dat.write(f'param m := {datos[\"m\"]};\\nparam n := {datos[\"n\"]};\\n')\n",
    "        \n",
    "        # Parameter f[i] - Fixed cost of opening each warehouse\n",
    "        mscflp_dat.write('param f :=\\n' + '\\n'.join([f\"{i+1} {datos['fixed_costs'][i]}\" for i in range(datos['m'])]) + ';\\n')\n",
    "        \n",
    "        # Parameter c[i,j] - Allocation cost from each warehouse i to customer j\n",
    "        mscflp_dat.write('param c : ' + ' '.join(map(str, range(1, datos['n'] + 1))) + ' :=\\n')\n",
    "        for i in range(datos['m']):\n",
    "            mscflp_dat.write(f\"{i+1} \" + ' '.join(map(str, [datos['allocation_costs'][j][i] for j in range(datos['n'])])) + '\\n')\n",
    "        mscflp_dat.write(';\\n')\n",
    "        \n",
    "        # Parameter S[i] - Capacity of each warehouse\n",
    "        mscflp_dat.write('param S :=\\n' + '\\n'.join([f\"{i+1} {datos['capacities'][i]}\" for i in range(datos['m'])]) + ';\\n')\n",
    "        \n",
    "        # Parameter D[j] - Demand of each customer\n",
    "        mscflp_dat.write('param D :=\\n' + '\\n'.join([f\"{j+1} {datos['demands'][j]}\" for j in range(datos['n'])]) + ';\\n')\n",
    "\n",
    "# Create mscflp.dat using the data read\n",
    "crear_mscflp_dat(datos)\n"
   ]
  },
  {
   "cell_type": "code",
   "execution_count": null,
   "metadata": {},
   "outputs": [
    {
     "ename": "OSError",
     "evalue": "Can't find  file \"sscflp.dat\"\ncontext:   >>> model 'sscflp.dat' <<< ; model;",
     "output_type": "error",
     "traceback": [
      "\u001b[1;31m---------------------------------------------------------------------------\u001b[0m",
      "\u001b[1;31mOSError\u001b[0m                                   Traceback (most recent call last)",
      "Cell \u001b[1;32mIn[18], line 18\u001b[0m\n\u001b[0;32m     15\u001b[0m     \u001b[38;5;28mprint\u001b[39m(resultado_x)\n\u001b[0;32m     16\u001b[0m     \u001b[38;5;28mprint\u001b[39m(resultado_y)\n\u001b[1;32m---> 18\u001b[0m \u001b[43mejecutar_sscflp\u001b[49m\u001b[43m(\u001b[49m\u001b[43m)\u001b[49m\n",
      "Cell \u001b[1;32mIn[18], line 6\u001b[0m, in \u001b[0;36mejecutar_sscflp\u001b[1;34m()\u001b[0m\n\u001b[0;32m      4\u001b[0m ampl \u001b[38;5;241m=\u001b[39m AMPL()\n\u001b[0;32m      5\u001b[0m ampl\u001b[38;5;241m.\u001b[39mread(\u001b[38;5;124m'\u001b[39m\u001b[38;5;124msscflp.mod\u001b[39m\u001b[38;5;124m'\u001b[39m)\n\u001b[1;32m----> 6\u001b[0m \u001b[43mampl\u001b[49m\u001b[38;5;241;43m.\u001b[39;49m\u001b[43mread\u001b[49m\u001b[43m(\u001b[49m\u001b[38;5;124;43m'\u001b[39;49m\u001b[38;5;124;43msscflp.dat\u001b[39;49m\u001b[38;5;124;43m'\u001b[39;49m\u001b[43m)\u001b[49m\n\u001b[0;32m      8\u001b[0m \u001b[38;5;66;03m# Configurar solver\u001b[39;00m\n\u001b[0;32m      9\u001b[0m ampl\u001b[38;5;241m.\u001b[39msetOption(\u001b[38;5;124m'\u001b[39m\u001b[38;5;124msolver\u001b[39m\u001b[38;5;124m'\u001b[39m, \u001b[38;5;124m'\u001b[39m\u001b[38;5;124mgurobi\u001b[39m\u001b[38;5;124m'\u001b[39m)\n",
      "File \u001b[1;32m~\\AppData\\Local\\Packages\\PythonSoftwareFoundation.Python.3.12_qbz5n2kfra8p0\\LocalCache\\local-packages\\Python312\\site-packages\\amplpy\\ampl.py:424\u001b[0m, in \u001b[0;36mAMPL.read\u001b[1;34m(self, filename)\u001b[0m\n\u001b[0;32m    411\u001b[0m \u001b[38;5;28;01mdef\u001b[39;00m \u001b[38;5;21mread\u001b[39m(\u001b[38;5;28mself\u001b[39m, filename):\n\u001b[0;32m    412\u001b[0m \u001b[38;5;250m    \u001b[39m\u001b[38;5;124;03m\"\"\"\u001b[39;00m\n\u001b[0;32m    413\u001b[0m \u001b[38;5;124;03m    Interprets the specified file (script or model or mixed) As a side\u001b[39;00m\n\u001b[0;32m    414\u001b[0m \u001b[38;5;124;03m    effect, it invalidates all entities (as the passed file can contain any\u001b[39;00m\n\u001b[1;32m   (...)\u001b[0m\n\u001b[0;32m    422\u001b[0m \u001b[38;5;124;03m        RuntimeError: in case the file does not exist.\u001b[39;00m\n\u001b[0;32m    423\u001b[0m \u001b[38;5;124;03m    \"\"\"\u001b[39;00m\n\u001b[1;32m--> 424\u001b[0m     \u001b[38;5;28;43mself\u001b[39;49m\u001b[38;5;241;43m.\u001b[39;49m\u001b[43m_impl\u001b[49m\u001b[38;5;241;43m.\u001b[39;49m\u001b[43mread\u001b[49m\u001b[43m(\u001b[49m\u001b[38;5;28;43mstr\u001b[39;49m\u001b[43m(\u001b[49m\u001b[43mfilename\u001b[49m\u001b[43m)\u001b[49m\u001b[43m)\u001b[49m\n\u001b[0;32m    425\u001b[0m     \u001b[38;5;28mself\u001b[39m\u001b[38;5;241m.\u001b[39m_error_handler_wrapper\u001b[38;5;241m.\u001b[39mcheck()\n",
      "\u001b[1;31mOSError\u001b[0m: Can't find  file \"sscflp.dat\"\ncontext:   >>> model 'sscflp.dat' <<< ; model;"
     ]
    }
   ],
   "source": [
    "from amplpy import AMPL\n",
    "\n",
    "def ejecutar_sscflp():\n",
    "    ampl = AMPL()\n",
    "    ampl.read('sscflp.mod')\n",
    "    ampl.read('sscflp.dat')\n",
    "    \n",
    "    # Configurar solver\n",
    "    ampl.setOption('solver', 'gurobi')\n",
    "    ampl.solve()\n",
    "    \n",
    "    # Obtener y mostrar resultados\n",
    "    resultado_x = ampl.var['x'].getValues().toPandas()\n",
    "    resultado_y = ampl.var['y'].getValues().toPandas()\n",
    "    print(resultado_x)\n",
    "    print(resultado_y)\n",
    "\n",
    "ejecutar_sscflp()\n"
   ]
  },
  {
   "cell_type": "code",
   "execution_count": null,
   "metadata": {},
   "outputs": [],
   "source": [
    "from amplpy import AMPL\n",
    "\n",
    "def ejecutar_mscflp():\n",
    "    ampl = AMPL()\n",
    "    ampl.read('mscflp.mod')\n",
    "    ampl.read('mscflp.dat')\n",
    "    \n",
    "    # Configurar solver\n",
    "    ampl.setOption('solver', 'gurobi')\n",
    "    ampl.solve()\n",
    "    \n",
    "    # Obtener y mostrar resultados\n",
    "    resultado_x = ampl.var['x'].getValues().toPandas()\n",
    "    resultado_y = ampl.var['y'].getValues().toPandas()\n",
    "    print(resultado_x)\n",
    "    print(resultado_y)\n",
    "\n",
    "ejecutar_mscflp()\n"
   ]
  }
 ],
 "metadata": {
  "kernelspec": {
   "display_name": "Python 3",
   "language": "python",
   "name": "python3"
  },
  "language_info": {
   "codemirror_mode": {
    "name": "ipython",
    "version": 3
   },
   "file_extension": ".py",
   "mimetype": "text/x-python",
   "name": "python",
   "nbconvert_exporter": "python",
   "pygments_lexer": "ipython3",
   "version": "3.12.7"
  }
 },
 "nbformat": 4,
 "nbformat_minor": 2
}
